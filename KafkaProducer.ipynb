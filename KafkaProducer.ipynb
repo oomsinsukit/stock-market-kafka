{
 "cells": [
  {
   "cell_type": "code",
   "execution_count": null,
   "id": "e2d3f594",
   "metadata": {},
   "outputs": [],
   "source": [
    "pip install yfinance\n",
    "pip install kafka-python"
   ]
  },
  {
   "cell_type": "code",
   "execution_count": 1,
   "id": "f19405f0",
   "metadata": {},
   "outputs": [],
   "source": [
    "import pandas as pd\n",
    "import yfinance as yf\n",
    "from kafka import KafkaProducer\n",
    "from time import sleep\n",
    "from json import dumps\n",
    "import json"
   ]
  },
  {
   "cell_type": "code",
   "execution_count": 3,
   "id": "e88bf246",
   "metadata": {},
   "outputs": [],
   "source": [
    "tickers = ['MSFT', 'AAPL', 'GOOG', 'AMZN']  # Add more tickers as needed\n",
    "all_data = []  # Create an empty list to store data for all tickers\n",
    "\n",
    "start = '2020-1-1'\n",
    "end = '2024-11-23'\n",
    "\n",
    "for ticker in tickers:\n",
    "    dat = yf.Ticker(ticker)\n",
    "    dat_price_df = dat.history(interval='1d', start=start, end=end)\n",
    "    dat_price_df = dat_price_df.reset_index()\n",
    "    dat_price_df['stock_name'] = ticker  # Assign the current ticker\n",
    "    dat_price_df['Date'] = pd.to_datetime(dat_price_df['Date'])  # Convert to timestamp\n",
    "    sel_col = ['stock_name','Date','Open','High','Low','Close','Volume']\n",
    "    dat_price_df = dat_price_df[sel_col]\n",
    "    all_data.append(dat_price_df)  # Append data for current ticker\n",
    "\n",
    "# Concatenate all data into a single DataFrame\n",
    "final_df = pd.concat(all_data, ignore_index=True)\n",
    "\n",
    "# Convert `Date` to string format (e.g., ISO 8601) for Kafka compatibility\n",
    "final_df['Date'] = final_df['Date'].dt.strftime('%Y-%m-%dT%H:%M:%S')\n"
   ]
  },
  {
   "cell_type": "code",
   "execution_count": 4,
   "id": "b483a0e4",
   "metadata": {},
   "outputs": [],
   "source": [
    "producer = KafkaProducer(bootstrap_servers=['18.136.104.39:9092'],\n",
    "                         value_serializer=lambda x: \n",
    "                         dumps(x).encode('utf-8'))"
   ]
  },
  {
   "cell_type": "code",
   "execution_count": null,
   "id": "4c7ec0be",
   "metadata": {},
   "outputs": [],
   "source": [
    "while True:\n",
    "    dict_stock = final_df.sample(1).to_dict(orient=\"records\")[0]\n",
    "    producer.send('stock', value=dict_stock)\n",
    "    sleep(1)"
   ]
  },
  {
   "cell_type": "code",
   "execution_count": 6,
   "id": "ed71c0e4",
   "metadata": {},
   "outputs": [],
   "source": [
    "producer.flush() #clear data from kafka server"
   ]
  },
  {
   "cell_type": "code",
   "execution_count": null,
   "id": "e018c538",
   "metadata": {},
   "outputs": [],
   "source": []
  }
 ],
 "metadata": {
  "kernelspec": {
   "display_name": ".venv",
   "language": "python",
   "name": "python3"
  },
  "language_info": {
   "codemirror_mode": {
    "name": "ipython",
    "version": 3
   },
   "file_extension": ".py",
   "mimetype": "text/x-python",
   "name": "python",
   "nbconvert_exporter": "python",
   "pygments_lexer": "ipython3",
   "version": "3.11.4"
  }
 },
 "nbformat": 4,
 "nbformat_minor": 5
}
